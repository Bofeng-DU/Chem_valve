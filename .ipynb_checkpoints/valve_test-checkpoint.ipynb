{
 "cells": [
  {
   "cell_type": "code",
   "execution_count": null,
   "id": "ffd08e9f-4b73-4875-aebe-4a698a0283af",
   "metadata": {},
   "outputs": [],
   "source": [
    "from ChemputerAPI import ChemputerValve\n",
    "import logging\n",
    "import time\n",
    "import os\n",
    "import sys\n",
    "\n",
    "# not sure if you need this, this class is bound with Chemputer and give some info about every step it make\n",
    "# for example : error cleared\n",
    "logging.basicConfig(level=logging.DEBUG, format=\"%(asctime)s ; %(levelname)s ; %(message)s\")"
   ]
  },
  {
   "cell_type": "code",
   "execution_count": null,
   "id": "df15ed45-1bfa-4acd-b33c-8272f4396588",
   "metadata": {},
   "outputs": [],
   "source": [
    "def valve_config(valve_adress, *valve_name):\n",
    "    valve = ChemputerValve(valve_adress, valve_name)\n",
    "    valve.write_default_valve_configuration()  # write a default configuration to the device and return an confirmation\n",
    "    # that the config write was successful\n",
    "    valve.clear_errors()  # clear the previous error\n",
    "    valve.read_errors()  # advisable to check if the device is now free of errors\n",
    "\n",
    "    valve.auto_config()# count magnets and determine the home direction.\n",
    "    # necessary because valve may not precisely at the centred one position, means need homing operation\n",
    "    # then will turn two full revolutions, and hopefully report success. See common errors down below\n",
    "    return valve\n",
    "\n",
    "def valve_move(position, valve):\n",
    "    if 1 <= position <= 5:\n",
    "        #valve = valve_config(valve_adress, valve_name)\n",
    "        valve.move_home()  # First move is ALWAYS to home. Check if homing works as expected.\n",
    "        # this move is necessary if not will cause Homing problem!\n",
    "        # This then sets the flag that the operation has completed.\n",
    "        valve.wait_until_ready()\n",
    "        valve.move_to_position(str(position))  # postion only from 0 to 5\n",
    "        #valve.wait_until_ready()\n",
    "\n",
    "    elif position == 0:\n",
    "        #valve = valve_config(valve_adress, valve_name)\n",
    "        valve.move_home()\n",
    "        valve.wait_until_ready()\n",
    "        valve.move_to_position(1)# this move seems very important otherwise moving to 0 will cause an error\n",
    "        valve.wait_until_ready()\n",
    "        valve.move_to_position(0)\n",
    "        #valve.wait_until_ready()\n",
    "\n",
    "    else:\n",
    "        print(\"valve doesn't have a \" + str(position))"
   ]
  },
  {
   "cell_type": "code",
   "execution_count": null,
   "id": "a57f047d-2809-46ec-9e52-f31daf13d795",
   "metadata": {},
   "outputs": [],
   "source": [
    "# COMMON ERROR:\n",
    "# * Six positive and zero negative magnets (or the other way around) are found: during assembly, the home magnet was not\n",
    "#   put in the other way. Replace the magnet on the position labeled \"3\" with one pointing the other way.\n",
    "#\n",
    "# * Six positive and one negative magnets (or the other way around) are found: the valve was centred on one position\n",
    "#   prior to calling auto_config(), and this position is counted twice. This happens sometimes. Move the valve between\n",
    "#   two positions, write the default config again, and run auto_config() once more.\n",
    "#\n",
    "# * Fewer than six magnets (in total) are found: Either a magnet is physically missing (check the valve), or one or more\n",
    "#   magnets are too weak (demagnetisation due to shock or impact, production fault, etc.). Manually move the valve from\n",
    "#   position to position, and c motor_profile 1\n",
    "\n",
    "#   If no faulty magnet can be identified, it's likely a problem with the Hall sensor.\n",
    "#\n",
    "# * More than six magnets (in total) are found: This is almost always a faulty Hall effect sensor.\n",
    "#\n",
    "# * The correct total amount is detected, but more than one is \"the other way around\": That's pretty clear, someone\n",
    "#   cocked up the assembly. Use read_ADC(), another magnet, or a magnet polarity indicator to work out the wrong magnets\n",
    "#   and replace them.\n"
   ]
  },
  {
   "cell_type": "code",
   "execution_count": null,
   "id": "9722af13-6c28-4d79-9ec2-51bd3b7c9cd8",
   "metadata": {},
   "outputs": [],
   "source": [
    "valve_adress = \"192.168.1.26\" # this ip-adress is hard coded by provider,\n",
    "# !!! you can also change it with command \"assign_ip_address(\"new one\")\"\n",
    "valve_name = \"26 valve\" # string name can be defined"
   ]
  },
  {
   "cell_type": "code",
   "execution_count": null,
   "id": "8f37b6d4-c15f-4727-917d-b3768b19d145",
   "metadata": {},
   "outputs": [],
   "source": [
    "valve_26 = valve_config(valve_adress, valve_name)\n",
    "valve_move(position=4, valve=valve_26)"
   ]
  },
  {
   "cell_type": "code",
   "execution_count": null,
   "id": "94e5b109-3c81-4aad-b641-4b291dd6abfb",
   "metadata": {},
   "outputs": [],
   "source": [
    "valve_move(position=3, valve=valve_26)"
   ]
  },
  {
   "cell_type": "code",
   "execution_count": null,
   "id": "34ffd573-4070-448e-a452-539cca3f4ed5",
   "metadata": {},
   "outputs": [],
   "source": []
  }
 ],
 "metadata": {
  "kernelspec": {
   "display_name": "Python 3 (ipykernel)",
   "language": "python",
   "name": "python3"
  },
  "language_info": {
   "codemirror_mode": {
    "name": "ipython",
    "version": 3
   },
   "file_extension": ".py",
   "mimetype": "text/x-python",
   "name": "python",
   "nbconvert_exporter": "python",
   "pygments_lexer": "ipython3",
   "version": "3.8.10"
  }
 },
 "nbformat": 4,
 "nbformat_minor": 5
}
